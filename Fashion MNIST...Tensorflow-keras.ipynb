{
 "cells": [
  {
   "cell_type": "code",
   "execution_count": 9,
   "metadata": {},
   "outputs": [],
   "source": [
    "import keras\n",
    "from keras.datasets import fashion_mnist\n",
    "dataset=fashion_mnist.load_data()"
   ]
  },
  {
   "cell_type": "code",
   "execution_count": 10,
   "metadata": {},
   "outputs": [],
   "source": [
    "(x_train,y_train),(x_test,y_test)=dataset       #((60000,28,28),60000),((10000,28,28),10000)"
   ]
  },
  {
   "cell_type": "code",
   "execution_count": 11,
   "metadata": {},
   "outputs": [],
   "source": [
    "#normalize\n",
    "x_train,x_test=x_train/255.0,x_test/255.0"
   ]
  },
  {
   "cell_type": "code",
   "execution_count": 12,
   "metadata": {},
   "outputs": [],
   "source": [
    "#model\n",
    "import tensorflow as tf\n",
    "model=keras.models.Sequential([keras.layers.Flatten(),keras.layers.Dense(128,activation='relu'),\n",
    "                              keras.layers.Dense(10,activation='softmax')])"
   ]
  },
  {
   "cell_type": "code",
   "execution_count": 14,
   "metadata": {},
   "outputs": [],
   "source": [
    "model.compile(optimizer='Adam',loss='sparse_categorical_crossentropy',metrics=['accuracy'])"
   ]
  },
  {
   "cell_type": "code",
   "execution_count": 15,
   "metadata": {},
   "outputs": [
    {
     "name": "stdout",
     "output_type": "stream",
     "text": [
      "Epoch 1/10\n",
      "60000/60000 [==============================] - 8s 141us/step - loss: 0.4998 - accuracy: 0.8246\n",
      "Epoch 2/10\n",
      "60000/60000 [==============================] - 7s 119us/step - loss: 0.3743 - accuracy: 0.8653\n",
      "Epoch 3/10\n",
      "60000/60000 [==============================] - 7s 119us/step - loss: 0.3363 - accuracy: 0.8775\n",
      "Epoch 4/10\n",
      "60000/60000 [==============================] - 7s 118us/step - loss: 0.3138 - accuracy: 0.8849\n",
      "Epoch 5/10\n",
      "60000/60000 [==============================] - 7s 116us/step - loss: 0.2953 - accuracy: 0.8911\n",
      "Epoch 6/10\n",
      "60000/60000 [==============================] - 8s 128us/step - loss: 0.2826 - accuracy: 0.8953\n",
      "Epoch 7/10\n",
      "60000/60000 [==============================] - 7s 117us/step - loss: 0.2690 - accuracy: 0.8997\n",
      "Epoch 8/10\n",
      "60000/60000 [==============================] - 7s 120us/step - loss: 0.2566 - accuracy: 0.9040\n",
      "Epoch 9/10\n",
      "60000/60000 [==============================] - 7s 122us/step - loss: 0.2495 - accuracy: 0.9074\n",
      "Epoch 10/10\n",
      "60000/60000 [==============================] - 7s 121us/step - loss: 0.2395 - accuracy: 0.9114\n"
     ]
    },
    {
     "data": {
      "text/plain": [
       "<keras.callbacks.callbacks.History at 0x7fd7a493f450>"
      ]
     },
     "execution_count": 15,
     "metadata": {},
     "output_type": "execute_result"
    }
   ],
   "source": [
    "model.fit(x_train,y_train,epochs=10)"
   ]
  },
  {
   "cell_type": "code",
   "execution_count": 21,
   "metadata": {},
   "outputs": [
    {
     "name": "stdout",
     "output_type": "stream",
     "text": [
      "10000/10000 [==============================] - 0s 42us/step\n"
     ]
    }
   ],
   "source": [
    "classification=model.evaluate(x_test,y_test)"
   ]
  },
  {
   "cell_type": "code",
   "execution_count": 25,
   "metadata": {},
   "outputs": [],
   "source": [
    "loss=classification[0]\n",
    "accuracy=classification[1]"
   ]
  },
  {
   "cell_type": "code",
   "execution_count": 26,
   "metadata": {},
   "outputs": [
    {
     "data": {
      "text/plain": [
       "(0.3378065797805786, 0.8841000199317932)"
      ]
     },
     "execution_count": 26,
     "metadata": {},
     "output_type": "execute_result"
    }
   ],
   "source": [
    "loss,accuracy"
   ]
  },
  {
   "cell_type": "code",
   "execution_count": 20,
   "metadata": {},
   "outputs": [
    {
     "data": {
      "text/plain": [
       "array([[1.3246987e-08, 5.6292442e-09, 1.2422154e-07, ..., 2.5595129e-03,\n",
       "        1.9812720e-07, 9.9643022e-01],\n",
       "       [1.2922655e-04, 8.0949414e-12, 9.9981481e-01, ..., 2.2939532e-18,\n",
       "        4.4893739e-10, 1.6366552e-15],\n",
       "       [4.6222944e-08, 1.0000000e+00, 1.1425224e-10, ..., 1.3624751e-23,\n",
       "        3.0733638e-14, 1.0457769e-18],\n",
       "       ...,\n",
       "       [3.6473015e-05, 1.1466622e-11, 3.7660589e-05, ..., 7.1450363e-12,\n",
       "        9.9990749e-01, 5.4006443e-12],\n",
       "       [1.5630077e-09, 9.9999750e-01, 3.5705594e-10, ..., 4.1315604e-18,\n",
       "        1.2727555e-10, 7.6971789e-13],\n",
       "       [8.6651789e-07, 3.3588530e-09, 6.5838431e-06, ..., 5.8800308e-03,\n",
       "        1.0853696e-04, 3.0405065e-06]], dtype=float32)"
      ]
     },
     "execution_count": 20,
     "metadata": {},
     "output_type": "execute_result"
    }
   ],
   "source": [
    "model.predict(x_test)"
   ]
  },
  {
   "cell_type": "code",
   "execution_count": null,
   "metadata": {},
   "outputs": [],
   "source": []
  }
 ],
 "metadata": {
  "kernelspec": {
   "display_name": "Python 3",
   "language": "python",
   "name": "python3"
  },
  "language_info": {
   "codemirror_mode": {
    "name": "ipython",
    "version": 3
   },
   "file_extension": ".py",
   "mimetype": "text/x-python",
   "name": "python",
   "nbconvert_exporter": "python",
   "pygments_lexer": "ipython3",
   "version": "3.7.4"
  }
 },
 "nbformat": 4,
 "nbformat_minor": 2
}
